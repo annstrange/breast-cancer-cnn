{
 "cells": [
  {
   "cell_type": "code",
   "execution_count": 18,
   "metadata": {},
   "outputs": [
    {
     "ename": "NameError",
     "evalue": "name 'pwd' is not defined",
     "output_type": "error",
     "traceback": [
      "\u001b[0;31m---------------------------------------------------------------------------\u001b[0m",
      "\u001b[0;31mNameError\u001b[0m                                 Traceback (most recent call last)",
      "\u001b[0;32m<ipython-input-18-c87d6286825c>\u001b[0m in \u001b[0;36m<module>\u001b[0;34m\u001b[0m\n\u001b[0;32m----> 1\u001b[0;31m \u001b[0mpwd\u001b[0m\u001b[0;34m\u001b[0m\u001b[0;34m\u001b[0m\u001b[0m\n\u001b[0m\u001b[1;32m      2\u001b[0m \u001b[0;31m#!cd ../src\u001b[0m\u001b[0;34m\u001b[0m\u001b[0;34m\u001b[0m\u001b[0;34m\u001b[0m\u001b[0m\n",
      "\u001b[0;31mNameError\u001b[0m: name 'pwd' is not defined"
     ]
    }
   ],
   "source": [
    "pwd\n",
    "#!cd ../src"
   ]
  },
  {
   "cell_type": "code",
   "execution_count": 20,
   "metadata": {},
   "outputs": [
    {
     "name": "stdout",
     "output_type": "stream",
     "text": [
      "/tf/capstone2/data/app/breast-cancer-cnn/src\n"
     ]
    }
   ],
   "source": [
    "cd ../src/"
   ]
  },
  {
   "cell_type": "code",
   "execution_count": 4,
   "metadata": {},
   "outputs": [
    {
     "name": "stdout",
     "output_type": "stream",
     "text": [
      "Requirement already satisfied: pillow in /usr/local/lib/python3.6/dist-packages (8.0.1)\r\n"
     ]
    }
   ],
   "source": [
    "#!pip list | grep tensorflow\n",
    "#!pip install --upgrade pip\n",
    "#!pip install pillow\n"
   ]
  },
  {
   "cell_type": "code",
   "execution_count": 21,
   "metadata": {},
   "outputs": [],
   "source": [
    "#!pip install --upgrade tensorflow"
   ]
  },
  {
   "cell_type": "code",
   "execution_count": 5,
   "metadata": {},
   "outputs": [],
   "source": [
    "import tensorflow as tf\n",
    "from tensorflow import keras\n",
    "from tensorflow.keras.applications import Xception\n",
    "from tensorflow.keras.layers import Dense, GlobalAveragePooling2D, Flatten, Dropout\n",
    "from tensorflow.keras.models import Model, Sequential, save_model, load_model\n",
    "from tensorflow.keras import layers\n",
    "from tensorflow.keras.models import Sequential, save_model\n",
    "from tensorflow.keras import layers, preprocessing\n",
    "from tensorflow.keras.layers import Conv2D, MaxPooling2D, Dense, Dropout, \\\n",
    "    Activation, Flatten\n",
    "from tensorflow.keras.optimizers import SGD, Adam, Adadelta\n",
    "#from tensorflow.keras.callbacks import TensorBoard\n",
    "import numpy as np"
   ]
  },
  {
   "cell_type": "code",
   "execution_count": 21,
   "metadata": {},
   "outputs": [],
   "source": [
    "from image_pipeline import *\n",
    "from image_convolv import *\n",
    "from bc_plotting import *\n",
    "from bc import *"
   ]
  },
  {
   "cell_type": "code",
   "execution_count": 22,
   "metadata": {
    "scrolled": true
   },
   "outputs": [],
   "source": [
    "# needs a version higher than tf 2.0, perhaps high as 2.3 to use 'SavedModel' format\n",
    "# then refer to the entire folder\n",
    "# model_path='../models/best_model.hdf5'\n",
    "basic_model=tf.keras.models.load_model('../models/saved_model.h5')"
   ]
  },
  {
   "cell_type": "code",
   "execution_count": 10,
   "metadata": {},
   "outputs": [],
   "source": []
  },
  {
   "cell_type": "code",
   "execution_count": 23,
   "metadata": {},
   "outputs": [
    {
     "name": "stdout",
     "output_type": "stream",
     "text": [
      "Model: \"sequential\"\n",
      "_________________________________________________________________\n",
      "Layer (type)                 Output Shape              Param #   \n",
      "=================================================================\n",
      "conv2d (Conv2D)              (None, 153, 234, 32)      2432      \n",
      "_________________________________________________________________\n",
      "conv2d_1 (Conv2D)            (None, 149, 230, 64)      51264     \n",
      "_________________________________________________________________\n",
      "max_pooling2d (MaxPooling2D) (None, 49, 76, 64)        0         \n",
      "_________________________________________________________________\n",
      "conv2d_2 (Conv2D)            (None, 45, 72, 128)       204928    \n",
      "_________________________________________________________________\n",
      "max_pooling2d_1 (MaxPooling2 (None, 15, 24, 128)       0         \n",
      "_________________________________________________________________\n",
      "flatten (Flatten)            (None, 46080)             0         \n",
      "_________________________________________________________________\n",
      "dense (Dense)                (None, 64)                2949184   \n",
      "_________________________________________________________________\n",
      "dense_1 (Dense)              (None, 64)                4160      \n",
      "_________________________________________________________________\n",
      "dense_2 (Dense)              (None, 2)                 130       \n",
      "=================================================================\n",
      "Total params: 3,212,098\n",
      "Trainable params: 3,212,098\n",
      "Non-trainable params: 0\n",
      "_________________________________________________________________\n"
     ]
    }
   ],
   "source": [
    "# i can do lots of fun things w my reconstructed model\n",
    "basic_model.summary()"
   ]
  },
  {
   "cell_type": "code",
   "execution_count": 12,
   "metadata": {},
   "outputs": [
    {
     "ename": "NameError",
     "evalue": "name 'model' is not defined",
     "output_type": "error",
     "traceback": [
      "\u001b[0;31m---------------------------------------------------------------------------\u001b[0m",
      "\u001b[0;31mNameError\u001b[0m                                 Traceback (most recent call last)",
      "\u001b[0;32m<ipython-input-12-97fe08f7ea72>\u001b[0m in \u001b[0;36m<module>\u001b[0;34m\u001b[0m\n\u001b[1;32m      1\u001b[0m \u001b[0mlen\u001b[0m\u001b[0;34m(\u001b[0m\u001b[0mbasic_model\u001b[0m\u001b[0;34m.\u001b[0m\u001b[0mweights\u001b[0m\u001b[0;34m)\u001b[0m \u001b[0;31m#12\u001b[0m\u001b[0;34m\u001b[0m\u001b[0;34m\u001b[0m\u001b[0m\n\u001b[0;32m----> 2\u001b[0;31m \u001b[0mmodel\u001b[0m\u001b[0;34m.\u001b[0m\u001b[0mbasic_model\u001b[0m\u001b[0;34m[\u001b[0m\u001b[0;34m:\u001b[0m\u001b[0;36m1\u001b[0m\u001b[0;34m]\u001b[0m  \u001b[0;31m# shape=(5, 5, 3, 32)\u001b[0m\u001b[0;34m\u001b[0m\u001b[0;34m\u001b[0m\u001b[0m\n\u001b[0m\u001b[1;32m      3\u001b[0m \u001b[0marr\u001b[0m \u001b[0;34m=\u001b[0m \u001b[0mnp\u001b[0m\u001b[0;34m.\u001b[0m\u001b[0marray\u001b[0m\u001b[0;34m(\u001b[0m\u001b[0mbasic_model\u001b[0m\u001b[0;34m.\u001b[0m\u001b[0mweights\u001b[0m\u001b[0;34m)\u001b[0m\u001b[0;34m\u001b[0m\u001b[0;34m\u001b[0m\u001b[0m\n\u001b[1;32m      4\u001b[0m \u001b[0marr\u001b[0m\u001b[0;34m.\u001b[0m\u001b[0mshape\u001b[0m  \u001b[0;31m# (12,)\u001b[0m\u001b[0;34m\u001b[0m\u001b[0;34m\u001b[0m\u001b[0m\n",
      "\u001b[0;31mNameError\u001b[0m: name 'model' is not defined"
     ]
    }
   ],
   "source": [
    "len(basic_model.weights) #12\n",
    "model.basic_model[:1]  # shape=(5, 5, 3, 32)\n",
    "arr = np.array(basic_model.weights)\n",
    "arr.shape  # (12,)"
   ]
  },
  {
   "cell_type": "code",
   "execution_count": 18,
   "metadata": {},
   "outputs": [
    {
     "data": {
      "text/plain": [
       "[<tensorflow.python.keras.layers.convolutional.Conv2D at 0x7f2bf00c7390>,\n",
       " <tensorflow.python.keras.layers.convolutional.Conv2D at 0x7f2bf00c7f98>,\n",
       " <tensorflow.python.keras.layers.pooling.MaxPooling2D at 0x7f2bf2618fd0>,\n",
       " <tensorflow.python.keras.layers.convolutional.Conv2D at 0x7f2bf00cdba8>,\n",
       " <tensorflow.python.keras.layers.pooling.MaxPooling2D at 0x7f2bf00d12b0>,\n",
       " <tensorflow.python.keras.layers.core.Flatten at 0x7f2bf00d16d8>,\n",
       " <tensorflow.python.keras.layers.core.Dense at 0x7f2bf00d1be0>,\n",
       " <tensorflow.python.keras.layers.core.Dense at 0x7f2bf00d7358>,\n",
       " <tensorflow.python.keras.layers.core.Dense at 0x7f2bf00d7a90>]"
      ]
     },
     "execution_count": 18,
     "metadata": {},
     "output_type": "execute_result"
    }
   ],
   "source": [
    "basic_model.layers"
   ]
  },
  {
   "cell_type": "code",
   "execution_count": 19,
   "metadata": {},
   "outputs": [
    {
     "name": "stdout",
     "output_type": "stream",
     "text": [
      "Layer 0 | Name: conv2d | Trainable: True\n",
      "Layer 1 | Name: conv2d_1 | Trainable: True\n",
      "Layer 2 | Name: max_pooling2d | Trainable: True\n",
      "Layer 3 | Name: conv2d_2 | Trainable: True\n",
      "Layer 4 | Name: max_pooling2d_1 | Trainable: True\n",
      "Layer 5 | Name: flatten | Trainable: True\n",
      "Layer 6 | Name: dense | Trainable: True\n",
      "Layer 7 | Name: dense_1 | Trainable: True\n",
      "Layer 8 | Name: dense_2 | Trainable: True\n"
     ]
    }
   ],
   "source": [
    "def print_model_properties(model, indices = 0):\n",
    "     for i, layer in enumerate(model.layers[indices:]):\n",
    "        print(\"Layer {} | Name: {} | Trainable: {}\".format(i+indices, layer.name, layer.trainable))\n",
    "        \n",
    "print_model_properties(basic_model)"
   ]
  },
  {
   "cell_type": "code",
   "execution_count": null,
   "metadata": {},
   "outputs": [],
   "source": []
  },
  {
   "cell_type": "code",
   "execution_count": null,
   "metadata": {},
   "outputs": [],
   "source": []
  },
  {
   "cell_type": "code",
   "execution_count": 20,
   "metadata": {},
   "outputs": [],
   "source": [
    "from tensorflow.keras.applications import Xception"
   ]
  },
  {
   "cell_type": "code",
   "execution_count": 21,
   "metadata": {},
   "outputs": [
    {
     "name": "stdout",
     "output_type": "stream",
     "text": [
      "Downloading data from https://storage.googleapis.com/tensorflow/keras-applications/xception/xception_weights_tf_dim_ordering_tf_kernels_notop.h5\n",
      "83689472/83683744 [==============================] - 3s 0us/step\n"
     ]
    }
   ],
   "source": [
    "from tensorflow.keras.layers import Dense, GlobalAveragePooling2D, Flatten, Dropout\n",
    "from tensorflow.keras.models import Model\n",
    "\n",
    "def create_transfer_model(input_size, n_categories, weights = 'imagenet'):\n",
    "        # note that the \"top\" is not included in the weights below\n",
    "        base_model = Xception(weights=weights,\n",
    "                          include_top=False,\n",
    "                          input_shape=input_size)\n",
    "        \n",
    "        model = base_model.output\n",
    "        model = GlobalAveragePooling2D()(model)\n",
    "        predictions = Dense(n_categories, activation='softmax')(model)\n",
    "        model = Model(inputs=base_model.input, outputs=predictions)\n",
    "        \n",
    "        return model\n",
    "    \n",
    "transfer_model = create_transfer_model(input_size=(100,100,3), n_categories=5)"
   ]
  },
  {
   "cell_type": "code",
   "execution_count": 24,
   "metadata": {},
   "outputs": [
    {
     "name": "stdout",
     "output_type": "stream",
     "text": [
      "Layer 0 | Name: input_1 | Trainable: False\n",
      "Layer 1 | Name: block1_conv1 | Trainable: False\n",
      "Layer 2 | Name: block1_conv1_bn | Trainable: False\n",
      "Layer 3 | Name: block1_conv1_act | Trainable: False\n",
      "Layer 4 | Name: block1_conv2 | Trainable: False\n",
      "Layer 5 | Name: block1_conv2_bn | Trainable: False\n",
      "Layer 6 | Name: block1_conv2_act | Trainable: False\n",
      "Layer 7 | Name: block2_sepconv1 | Trainable: False\n",
      "Layer 8 | Name: block2_sepconv1_bn | Trainable: False\n",
      "Layer 9 | Name: block2_sepconv2_act | Trainable: False\n",
      "Layer 10 | Name: block2_sepconv2 | Trainable: False\n",
      "Layer 11 | Name: block2_sepconv2_bn | Trainable: False\n",
      "Layer 12 | Name: conv2d | Trainable: False\n",
      "Layer 13 | Name: block2_pool | Trainable: False\n",
      "Layer 14 | Name: batch_normalization | Trainable: False\n",
      "Layer 15 | Name: add | Trainable: False\n",
      "Layer 16 | Name: block3_sepconv1_act | Trainable: False\n",
      "Layer 17 | Name: block3_sepconv1 | Trainable: False\n",
      "Layer 18 | Name: block3_sepconv1_bn | Trainable: False\n",
      "Layer 19 | Name: block3_sepconv2_act | Trainable: False\n",
      "Layer 20 | Name: block3_sepconv2 | Trainable: False\n",
      "Layer 21 | Name: block3_sepconv2_bn | Trainable: False\n",
      "Layer 22 | Name: conv2d_1 | Trainable: False\n",
      "Layer 23 | Name: block3_pool | Trainable: False\n",
      "Layer 24 | Name: batch_normalization_1 | Trainable: False\n",
      "Layer 25 | Name: add_1 | Trainable: False\n",
      "Layer 26 | Name: block4_sepconv1_act | Trainable: False\n",
      "Layer 27 | Name: block4_sepconv1 | Trainable: False\n",
      "Layer 28 | Name: block4_sepconv1_bn | Trainable: False\n",
      "Layer 29 | Name: block4_sepconv2_act | Trainable: False\n",
      "Layer 30 | Name: block4_sepconv2 | Trainable: False\n",
      "Layer 31 | Name: block4_sepconv2_bn | Trainable: False\n",
      "Layer 32 | Name: conv2d_2 | Trainable: False\n",
      "Layer 33 | Name: block4_pool | Trainable: False\n",
      "Layer 34 | Name: batch_normalization_2 | Trainable: False\n",
      "Layer 35 | Name: add_2 | Trainable: False\n",
      "Layer 36 | Name: block5_sepconv1_act | Trainable: False\n",
      "Layer 37 | Name: block5_sepconv1 | Trainable: False\n",
      "Layer 38 | Name: block5_sepconv1_bn | Trainable: False\n",
      "Layer 39 | Name: block5_sepconv2_act | Trainable: False\n",
      "Layer 40 | Name: block5_sepconv2 | Trainable: False\n",
      "Layer 41 | Name: block5_sepconv2_bn | Trainable: False\n",
      "Layer 42 | Name: block5_sepconv3_act | Trainable: False\n",
      "Layer 43 | Name: block5_sepconv3 | Trainable: False\n",
      "Layer 44 | Name: block5_sepconv3_bn | Trainable: False\n",
      "Layer 45 | Name: add_3 | Trainable: False\n",
      "Layer 46 | Name: block6_sepconv1_act | Trainable: False\n",
      "Layer 47 | Name: block6_sepconv1 | Trainable: False\n",
      "Layer 48 | Name: block6_sepconv1_bn | Trainable: False\n",
      "Layer 49 | Name: block6_sepconv2_act | Trainable: False\n",
      "Layer 50 | Name: block6_sepconv2 | Trainable: False\n",
      "Layer 51 | Name: block6_sepconv2_bn | Trainable: False\n",
      "Layer 52 | Name: block6_sepconv3_act | Trainable: False\n",
      "Layer 53 | Name: block6_sepconv3 | Trainable: False\n",
      "Layer 54 | Name: block6_sepconv3_bn | Trainable: False\n",
      "Layer 55 | Name: add_4 | Trainable: False\n",
      "Layer 56 | Name: block7_sepconv1_act | Trainable: False\n",
      "Layer 57 | Name: block7_sepconv1 | Trainable: False\n",
      "Layer 58 | Name: block7_sepconv1_bn | Trainable: False\n",
      "Layer 59 | Name: block7_sepconv2_act | Trainable: False\n",
      "Layer 60 | Name: block7_sepconv2 | Trainable: False\n",
      "Layer 61 | Name: block7_sepconv2_bn | Trainable: False\n",
      "Layer 62 | Name: block7_sepconv3_act | Trainable: False\n",
      "Layer 63 | Name: block7_sepconv3 | Trainable: False\n",
      "Layer 64 | Name: block7_sepconv3_bn | Trainable: False\n",
      "Layer 65 | Name: add_5 | Trainable: False\n",
      "Layer 66 | Name: block8_sepconv1_act | Trainable: False\n",
      "Layer 67 | Name: block8_sepconv1 | Trainable: False\n",
      "Layer 68 | Name: block8_sepconv1_bn | Trainable: False\n",
      "Layer 69 | Name: block8_sepconv2_act | Trainable: False\n",
      "Layer 70 | Name: block8_sepconv2 | Trainable: False\n",
      "Layer 71 | Name: block8_sepconv2_bn | Trainable: False\n",
      "Layer 72 | Name: block8_sepconv3_act | Trainable: False\n",
      "Layer 73 | Name: block8_sepconv3 | Trainable: False\n",
      "Layer 74 | Name: block8_sepconv3_bn | Trainable: False\n",
      "Layer 75 | Name: add_6 | Trainable: False\n",
      "Layer 76 | Name: block9_sepconv1_act | Trainable: False\n",
      "Layer 77 | Name: block9_sepconv1 | Trainable: False\n",
      "Layer 78 | Name: block9_sepconv1_bn | Trainable: False\n",
      "Layer 79 | Name: block9_sepconv2_act | Trainable: False\n",
      "Layer 80 | Name: block9_sepconv2 | Trainable: False\n",
      "Layer 81 | Name: block9_sepconv2_bn | Trainable: False\n",
      "Layer 82 | Name: block9_sepconv3_act | Trainable: False\n",
      "Layer 83 | Name: block9_sepconv3 | Trainable: False\n",
      "Layer 84 | Name: block9_sepconv3_bn | Trainable: False\n",
      "Layer 85 | Name: add_7 | Trainable: False\n",
      "Layer 86 | Name: block10_sepconv1_act | Trainable: False\n",
      "Layer 87 | Name: block10_sepconv1 | Trainable: False\n",
      "Layer 88 | Name: block10_sepconv1_bn | Trainable: False\n",
      "Layer 89 | Name: block10_sepconv2_act | Trainable: False\n",
      "Layer 90 | Name: block10_sepconv2 | Trainable: False\n",
      "Layer 91 | Name: block10_sepconv2_bn | Trainable: False\n",
      "Layer 92 | Name: block10_sepconv3_act | Trainable: False\n",
      "Layer 93 | Name: block10_sepconv3 | Trainable: False\n",
      "Layer 94 | Name: block10_sepconv3_bn | Trainable: False\n",
      "Layer 95 | Name: add_8 | Trainable: False\n",
      "Layer 96 | Name: block11_sepconv1_act | Trainable: False\n",
      "Layer 97 | Name: block11_sepconv1 | Trainable: False\n",
      "Layer 98 | Name: block11_sepconv1_bn | Trainable: False\n",
      "Layer 99 | Name: block11_sepconv2_act | Trainable: False\n",
      "Layer 100 | Name: block11_sepconv2 | Trainable: False\n",
      "Layer 101 | Name: block11_sepconv2_bn | Trainable: False\n",
      "Layer 102 | Name: block11_sepconv3_act | Trainable: False\n",
      "Layer 103 | Name: block11_sepconv3 | Trainable: False\n",
      "Layer 104 | Name: block11_sepconv3_bn | Trainable: False\n",
      "Layer 105 | Name: add_9 | Trainable: False\n",
      "Layer 106 | Name: block12_sepconv1_act | Trainable: False\n",
      "Layer 107 | Name: block12_sepconv1 | Trainable: False\n",
      "Layer 108 | Name: block12_sepconv1_bn | Trainable: False\n",
      "Layer 109 | Name: block12_sepconv2_act | Trainable: False\n",
      "Layer 110 | Name: block12_sepconv2 | Trainable: False\n",
      "Layer 111 | Name: block12_sepconv2_bn | Trainable: False\n",
      "Layer 112 | Name: block12_sepconv3_act | Trainable: False\n",
      "Layer 113 | Name: block12_sepconv3 | Trainable: False\n",
      "Layer 114 | Name: block12_sepconv3_bn | Trainable: False\n",
      "Layer 115 | Name: add_10 | Trainable: False\n",
      "Layer 116 | Name: block13_sepconv1_act | Trainable: False\n",
      "Layer 117 | Name: block13_sepconv1 | Trainable: False\n",
      "Layer 118 | Name: block13_sepconv1_bn | Trainable: False\n",
      "Layer 119 | Name: block13_sepconv2_act | Trainable: False\n",
      "Layer 120 | Name: block13_sepconv2 | Trainable: False\n",
      "Layer 121 | Name: block13_sepconv2_bn | Trainable: False\n",
      "Layer 122 | Name: conv2d_3 | Trainable: False\n",
      "Layer 123 | Name: block13_pool | Trainable: False\n",
      "Layer 124 | Name: batch_normalization_3 | Trainable: False\n",
      "Layer 125 | Name: add_11 | Trainable: False\n",
      "Layer 126 | Name: block14_sepconv1 | Trainable: False\n",
      "Layer 127 | Name: block14_sepconv1_bn | Trainable: False\n",
      "Layer 128 | Name: block14_sepconv1_act | Trainable: False\n",
      "Layer 129 | Name: block14_sepconv2 | Trainable: False\n",
      "Layer 130 | Name: block14_sepconv2_bn | Trainable: False\n",
      "Layer 131 | Name: block14_sepconv2_act | Trainable: False\n",
      "Layer 132 | Name: global_average_pooling2d | Trainable: True\n",
      "Layer 133 | Name: dense | Trainable: True\n"
     ]
    }
   ],
   "source": [
    "def print_model_properties(model, indices = 0):\n",
    "     for i, layer in enumerate(model.layers[indices:]):\n",
    "        print(\"Layer {} | Name: {} | Trainable: {}\".format(i+indices, layer.name, layer.trainable))\n",
    "        \n",
    "print_model_properties(transfer_model)"
   ]
  },
  {
   "cell_type": "code",
   "execution_count": 23,
   "metadata": {},
   "outputs": [],
   "source": [
    "def change_trainable_layers(model, trainable_index):\n",
    "    for layer in model.layers[:trainable_index]:\n",
    "        layer.trainable = False\n",
    "    for layer in model.layers[trainable_index:]:\n",
    "        layer.trainable = True\n",
    "        \n",
    "change_trainable_layers(transfer_model, 132)"
   ]
  },
  {
   "cell_type": "code",
   "execution_count": 29,
   "metadata": {},
   "outputs": [],
   "source": [
    "# Here's where I need my data\n",
    "import sys  \n",
    "sys.path.insert(0, '../src')\n",
    "\n",
    "from bc import *\n",
    "from image_pipeline import *"
   ]
  },
  {
   "cell_type": "code",
   "execution_count": 30,
   "metadata": {},
   "outputs": [
    {
     "name": "stdout",
     "output_type": "stream",
     "text": [
      "first image shape (460, 700, 3)\n",
      "first names entry SOB_B_A-14-22549AB-200-001.png\n",
      "images_list should have list of 2013 patients x images, filenames of shape 460 \n",
      "first image shape (460, 700, 3)\n",
      "images_filename_list should have list of 2013 patients * images\n",
      "first names entry SOB_B_A-14-22549AB-200-001.png\n",
      "{'slide_id': '22549AB', 'tumor_type': 'A', 'biopsy_procedure': 'SOB', 'tumor_class': 'B', 'seq': '001', 'year': '14', 'image_size': (460, 700, 3), 'mag': '200'}\n"
     ]
    }
   ],
   "source": [
    "ip = run_pipeline()\n",
    "# reads images from root_dir where last subdir is 200X, returns Image_Pipeline obj"
   ]
  },
  {
   "cell_type": "code",
   "execution_count": null,
   "metadata": {},
   "outputs": [],
   "source": []
  },
  {
   "cell_type": "code",
   "execution_count": null,
   "metadata": {},
   "outputs": [],
   "source": []
  },
  {
   "cell_type": "code",
   "execution_count": null,
   "metadata": {},
   "outputs": [],
   "source": [
    "transfer_model.compile(optimizer='SGD', loss=['categorical_crossentropy'], metrics=['accuracy'])\n",
    "mdl_check_trans = ModelCheckpoint(filepath='models/best_trans_model.hdf5',\n",
    "                            save_best_only=True)\n",
    "transfer_model.fit_generator(generator=train_small, \n",
    "                    validation_data=val_small,\n",
    "                    epochs=2, \n",
    "                    steps_per_epoch=steps_per_epoch, \n",
    "                    validation_steps=validation_steps,\n",
    "                    callbacks=[mdl_check_trans, tensorboard])"
   ]
  }
 ],
 "metadata": {
  "kernelspec": {
   "display_name": "Python 3",
   "language": "python",
   "name": "python3"
  },
  "language_info": {
   "codemirror_mode": {
    "name": "ipython",
    "version": 3
   },
   "file_extension": ".py",
   "mimetype": "text/x-python",
   "name": "python",
   "nbconvert_exporter": "python",
   "pygments_lexer": "ipython3",
   "version": "3.6.9"
  }
 },
 "nbformat": 4,
 "nbformat_minor": 4
}
